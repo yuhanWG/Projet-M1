{
 "cells": [
  {
   "cell_type": "code",
   "execution_count": 2,
   "metadata": {},
   "outputs": [],
   "source": [
    "from gurobipy import *\n",
    "import numpy as np"
   ]
  },
  {
   "cell_type": "markdown",
   "metadata": {},
   "source": [
    "## 1.1 introduction\n",
    "a un ensemble d'alternatives evaluees selon n citeres"
   ]
  },
  {
   "cell_type": "code",
   "execution_count": 76,
   "metadata": {},
   "outputs": [],
   "source": [
    "a=np.matrix('32 42 26;26 45 35;39 43 18;45 23 36;37 27 37')"
   ]
  },
  {
   "cell_type": "code",
   "execution_count": 77,
   "metadata": {},
   "outputs": [
    {
     "data": {
      "text/plain": [
       "matrix([[32, 42, 26],\n",
       "        [26, 45, 35],\n",
       "        [39, 43, 18],\n",
       "        [45, 23, 36],\n",
       "        [37, 27, 37]])"
      ]
     },
     "execution_count": 77,
     "metadata": {},
     "output_type": "execute_result"
    }
   ],
   "source": [
    "a"
   ]
  },
  {
   "cell_type": "code",
   "execution_count": 35,
   "metadata": {},
   "outputs": [
    {
     "name": "stdout",
     "output_type": "stream",
     "text": [
      "[[17]]\n"
     ]
    }
   ],
   "source": [
    "print(np.ndarray.max((a[1,:]-a[2,:])))"
   ]
  },
  {
   "cell_type": "code",
   "execution_count": 32,
   "metadata": {},
   "outputs": [
    {
     "name": "stdout",
     "output_type": "stream",
     "text": [
      "<class 'list'>\n"
     ]
    }
   ],
   "source": [
    "print(type([-13,2,17]))"
   ]
  },
  {
   "cell_type": "code",
   "execution_count": 27,
   "metadata": {},
   "outputs": [
    {
     "name": "stdout",
     "output_type": "stream",
     "text": [
      "1.0\n"
     ]
    }
   ],
   "source": [
    "b=np.ones((5,5))\n",
    "print(b[1,1])"
   ]
  },
  {
   "cell_type": "markdown",
   "metadata": {},
   "source": [
    "## 1.2 min-max regret"
   ]
  },
  {
   "cell_type": "code",
   "execution_count": 43,
   "metadata": {},
   "outputs": [],
   "source": [
    "#PMR the pairwise max regret, le max regret entre deux alternative parmi toutes les citeres\n",
    "def pmr(matrice):    \n",
    "    nb_alt,nb_citere=matrice.shape\n",
    "    matrice_pmr=np.zeros((nb_alt,nb_alt))\n",
    "    for i in range(nb_alt):\n",
    "        for j in range(nb_alt):\n",
    "            if i!=j:               \n",
    "                cpt=np.ndarray.max(np.array(matrice[i,:]-matrice[j,:]))\n",
    "                matrice_pmr[i,j]=cpt\n",
    "    return matrice_pmr"
   ]
  },
  {
   "cell_type": "code",
   "execution_count": 44,
   "metadata": {},
   "outputs": [],
   "source": [
    "pmr_matrice=pmr(a)"
   ]
  },
  {
   "cell_type": "code",
   "execution_count": 45,
   "metadata": {},
   "outputs": [
    {
     "data": {
      "text/plain": [
       "array([[ 0.,  6.,  8., 19., 15.],\n",
       "       [ 9.,  0., 17., 22., 18.],\n",
       "       [ 7., 13.,  0., 20., 16.],\n",
       "       [13., 19., 18.,  0.,  8.],\n",
       "       [11., 11., 19.,  4.,  0.]])"
      ]
     },
     "execution_count": 45,
     "metadata": {},
     "output_type": "execute_result"
    }
   ],
   "source": [
    "pmr_matrice"
   ]
  },
  {
   "cell_type": "code",
   "execution_count": 48,
   "metadata": {},
   "outputs": [
    {
     "name": "stdout",
     "output_type": "stream",
     "text": [
      "22.0\n",
      "(5, 5)\n"
     ]
    }
   ],
   "source": [
    "print(np.ndarray.max(pmr_matrice))\n",
    "print(pmr_matrice.shape)"
   ]
  },
  {
   "cell_type": "code",
   "execution_count": 46,
   "metadata": {},
   "outputs": [],
   "source": [
    "#PR : un des alternatives qui a le max PMR pour une solution donnees"
   ]
  },
  {
   "cell_type": "code",
   "execution_count": 54,
   "metadata": {},
   "outputs": [],
   "source": [
    "def max_regret(pmrM):\n",
    "    nb_alt=pmrM.shape[0]\n",
    "    max_regret=np.zeros(nb_alt)\n",
    "    for i in range(nb_alt):\n",
    "        max_regret[i]=np.ndarray.max(pmrM[i,:])\n",
    "    return max_regret"
   ]
  },
  {
   "cell_type": "code",
   "execution_count": 55,
   "metadata": {},
   "outputs": [
    {
     "name": "stdout",
     "output_type": "stream",
     "text": [
      "[19. 22. 20. 19. 19.]\n"
     ]
    }
   ],
   "source": [
    "max_regret=max_regret(pmr_matrice)\n",
    "print(max_regret)"
   ]
  },
  {
   "cell_type": "code",
   "execution_count": 81,
   "metadata": {},
   "outputs": [],
   "source": [
    "W=np.array([0.326851,0.318176,0.354973])\n",
    "def preference(sol1,sol2):\n",
    "    if(np.sum(W*sol1)<np.sum(W*sol2)):\n",
    "        return True\n",
    "    else:\n",
    "        return False"
   ]
  },
  {
   "cell_type": "code",
   "execution_count": 83,
   "metadata": {},
   "outputs": [
    {
     "name": "stdout",
     "output_type": "stream",
     "text": [
      "[[32 42 26]\n",
      " [26 45 35]\n",
      " [39 43 18]\n",
      " [45 23 36]\n",
      " [37 27 37]]\n",
      "True\n"
     ]
    }
   ],
   "source": [
    "\n",
    "sol1=np.ndarray.tolist(a[0,:])\n",
    "sol2=np.ndarray.tolist(a[3,:])\n",
    "print(preference(sol1,sol2))"
   ]
  },
  {
   "cell_type": "code",
   "execution_count": 106,
   "metadata": {},
   "outputs": [],
   "source": [
    "#mettre les donnees dans un fichier et les lire\n",
    "#une valeur pour nb des solution et pour les criteres\n",
    "def minmax(pmrM,max_regret,a):\n",
    "    m = Model(\"s0\")\n",
    "    #alpha = m.addVar(vtype=GRB.CONTINUOUS, name=\"alpha\") \n",
    "    #m.setObjective(alpha,GRB.MAXIMIZE)\n",
    "    \n",
    "    #dans une liste\n",
    "    w1=m.addVar(vtype=GRB.CONTINUOUS, name=\"w1\")\n",
    "    w2=m.addVar(vtype=GRB.CONTINUOUS, name=\"w2\")\n",
    "    w3=m.addVar(vtype=GRB.CONTINUOUS, name=\"w3\")\n",
    "    \n",
    "    index=np.argmin(max_regret)\n",
    "    print(\"la solution qui a min regret est solution \",index+1)\n",
    "    sonpire=np.ndarray.argmax(pmrM[index,:])\n",
    "    print(\"son pire adversaire est solution \",sonpire+1)\n",
    "    sol1=np.ndarray.tolist(a[index,:])\n",
    "    sol2=np.ndarray.tolist(a[sonpire,:])\n",
    "    if(preference(sol1,sol2)):\n",
    "        coeff=np.array(sol1)-np.array(sol2)\n",
    "        m.setObjective(-5*w1+15*w2-11*w3,GRB.MAXIMIZE)\n",
    "        m.addConstr(w1+w2+w3==1)\n",
    "        m.addConstr(32*w1+42*w2+26*w3<=45*w1+23*w2+36*w3)\n",
    "        m.optimize()\n",
    "        print(m.objVal)"
   ]
  },
  {
   "cell_type": "code",
   "execution_count": 107,
   "metadata": {},
   "outputs": [
    {
     "name": "stdout",
     "output_type": "stream",
     "text": [
      "la solution qui a min regret est solution  1\n",
      "son pire adversaire est solution  4\n",
      "Gurobi Optimizer version 9.0.0 build v9.0.0rc2 (mac64)\n",
      "Optimize a model with 2 rows, 3 columns and 6 nonzeros\n",
      "Model fingerprint: 0x9652b34f\n",
      "Coefficient statistics:\n",
      "  Matrix range     [1e+00, 2e+01]\n",
      "  Objective range  [5e+00, 2e+01]\n",
      "  Bounds range     [0e+00, 0e+00]\n",
      "  RHS range        [1e+00, 1e+00]\n",
      "Presolve time: 0.09s\n",
      "Presolved: 2 rows, 3 columns, 6 nonzeros\n",
      "\n",
      "Iteration    Objective       Primal Inf.    Dual Inf.      Time\n",
      "       0    3.7500000e+30   1.093750e+30   3.750000e+00      0s\n",
      "       2    3.1250000e+00   0.000000e+00   0.000000e+00      0s\n",
      "\n",
      "Solved in 2 iterations and 0.12 seconds\n",
      "Optimal objective  3.125000000e+00\n",
      "3.125\n"
     ]
    }
   ],
   "source": [
    "minmax(pmr_matrice,max_regret,a)"
   ]
  },
  {
   "cell_type": "code",
   "execution_count": null,
   "metadata": {},
   "outputs": [],
   "source": []
  }
 ],
 "metadata": {
  "kernelspec": {
   "display_name": "Python 3",
   "language": "python",
   "name": "python3"
  },
  "language_info": {
   "codemirror_mode": {
    "name": "ipython",
    "version": 3
   },
   "file_extension": ".py",
   "mimetype": "text/x-python",
   "name": "python",
   "nbconvert_exporter": "python",
   "pygments_lexer": "ipython3",
   "version": "3.7.1"
  }
 },
 "nbformat": 4,
 "nbformat_minor": 2
}
